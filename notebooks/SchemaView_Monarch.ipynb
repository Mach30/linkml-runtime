{
 "cells": [
  {
   "cell_type": "code",
   "execution_count": 2,
   "id": "3e37f9e6",
   "metadata": {},
   "outputs": [],
   "source": [
    "# what biolink:category does my identifier represent\n",
    "# how to find the predicates used for gene to disease mappings\n",
    "# Derived file: list of ontologies mapped to entity types1 they represent #31\n"
   ]
  },
  {
   "cell_type": "code",
   "execution_count": 3,
   "id": "169c9e40",
   "metadata": {},
   "outputs": [],
   "source": [
    "from linkml_runtime.utils.schemaview import SchemaView\n",
    "import requests \n",
    "# note you can also use a path on a local filesystem\n",
    "view = SchemaView(\"https://raw.githubusercontent.com/biolink/biolink-model/master/biolink-model.yaml\")"
   ]
  },
  {
   "cell_type": "code",
   "execution_count": 4,
   "id": "54424ac5",
   "metadata": {},
   "outputs": [
    {
     "name": "stdout",
     "output_type": "stream",
     "text": [
      "['disease']\n"
     ]
    }
   ],
   "source": [
    "# what biolink:category does my identifier represent?\n",
    "# id_prefixes\n",
    "# mappings\n",
    "\n",
    "# id_prefixes\n",
    "prefixed_categories = view.get_elements_applicable_by_identifier(\"DOID:4\")\n",
    "print(prefixed_categories)"
   ]
  },
  {
   "cell_type": "code",
   "execution_count": 5,
   "id": "49d364e9",
   "metadata": {},
   "outputs": [
    {
     "name": "stdout",
     "output_type": "stream",
     "text": [
      "['is missense variant of']\n"
     ]
    }
   ],
   "source": [
    "# mappings \n",
    "\n",
    "mapped_categories = view.get_category_by_mapping('SO:0001583')\n",
    "print(mapped_categories)\n"
   ]
  },
  {
   "cell_type": "code",
   "execution_count": 50,
   "id": "a7a0fa3f",
   "metadata": {},
   "outputs": [
    {
     "name": "stdout",
     "output_type": "stream",
     "text": [
      "GENO:0000002\n",
      "description: An allele that varies in its sequence from what is considered the reference allele at that locus.\n",
      "\n",
      "OLS description: An allele that varies in it sequence from what is considered the reference or canonical sequence at that location.\n",
      "WIKIDATA:Q15304597: can't find any matching terms in OLS that don't return 404 errors\n",
      "SIO:010277: can't find any matching terms in OLS that don't return 404 errors\n",
      "VMC:Allele: can't find any matching terms in OLS that don't return 404 errors\n",
      "SO:0001059\n",
      "description: An allele that varies in its sequence from what is considered the reference allele at that locus.\n",
      "\n",
      "OLS description: A sequence_alteration is a sequence_feature whose extent is the deviation from another sequence.\n"
     ]
    }
   ],
   "source": [
    "# object = 'gene'\n",
    "# object = 'disease'\n",
    "# object = 'phenotypic feature'\n",
    "object = 'sequence variant'\n",
    "\n",
    "query_prefix = f'https://www.ebi.ac.uk/ols/api/ontologies/_ontology/terms/'\n",
    "mappings = view.get_mappings(object)\n",
    "if len(mappings) == 0:\n",
    "    print(\"no exact mappings found for: \" + object)\n",
    "for exact_mapping in mappings.get('exact'):\n",
    "    url = query_prefix.replace(\"_ontology\", exact_mapping.split(\":\")[0]) + \"http%253A%252F%252Fpurl.obolibrary.org%252Fobo%252F\" + exact_mapping.replace(\":\", \"_\")\n",
    "    response = requests.get(url)\n",
    "    if response.status_code == 200:\n",
    "        print(exact_mapping)\n",
    "        element = view.get_element(object)\n",
    "        if element.description is None:\n",
    "            print(\"biolink description is empty\")\n",
    "        else:\n",
    "            print(\"description: \" + element.description +\"\\n\")\n",
    "        if response.json().get('description') is None:\n",
    "            print (\"no definition found via OLS\")\n",
    "        else: \n",
    "            for description in response.json().get('description'):\n",
    "                print(\"OLS description: \" + description)\n",
    "    else:\n",
    "        print(exact_mapping + \": can't find any matching terms in OLS that don't return 404 errors\")\n",
    "     "
   ]
  },
  {
   "cell_type": "code",
   "execution_count": null,
   "id": "2f9e0c55",
   "metadata": {},
   "outputs": [],
   "source": []
  }
 ],
 "metadata": {
  "kernelspec": {
   "display_name": "Python 3 (ipykernel)",
   "language": "python",
   "name": "python3"
  },
  "language_info": {
   "codemirror_mode": {
    "name": "ipython",
    "version": 3
   },
   "file_extension": ".py",
   "mimetype": "text/x-python",
   "name": "python",
   "nbconvert_exporter": "python",
   "pygments_lexer": "ipython3",
   "version": "3.7.4"
  }
 },
 "nbformat": 4,
 "nbformat_minor": 5
}
