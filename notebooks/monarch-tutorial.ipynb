{
 "cells": [
  {
   "cell_type": "code",
   "execution_count": null,
   "id": "3e37f9e6",
   "metadata": {},
   "outputs": [],
   "source": [
    "# what biolink:category does my identifier represent\n",
    "# Derived file: list of ontologies mapped to entity types they represent #31\n",
    "# how to find the predicates used for gene to disease mappings"
   ]
  },
  {
   "cell_type": "code",
   "execution_count": 1,
   "id": "169c9e40",
   "metadata": {},
   "outputs": [],
   "source": [
    "from linkml_runtime.utils.schemaview import SchemaView\n",
    "import requests \n",
    "# note you can also use a path on a local filesystem\n",
    "view = SchemaView(\"https://raw.githubusercontent.com/biolink/biolink-model/master/biolink-model.yaml\")"
   ]
  },
  {
   "cell_type": "code",
   "execution_count": 2,
   "id": "54424ac5",
   "metadata": {},
   "outputs": [
    {
     "name": "stdout",
     "output_type": "stream",
     "text": [
      "['agent', 'individual organism']\n"
     ]
    }
   ],
   "source": [
    "# what biolink:category does my identifier represent?\n",
    "# id_prefixes\n",
    "# mappings\n",
    "\n",
    "\n",
    "\n",
    "mapped_categories = view.get_elements_applicable_by_identifier(\"ORCID:1234\")\n",
    "print(mapped_categories)\n"
   ]
  },
  {
   "cell_type": "code",
   "execution_count": 30,
   "id": "a7a0fa3f",
   "metadata": {},
   "outputs": [
    {
     "name": "stdout",
     "output_type": "stream",
     "text": [
      "gene: A region (or regions) that includes all of the sequence elements necessary to encode a functional transcript. A gene locus may include regulatory regions, transcribed regions and/or other functional sequence regions.\n",
      "\n",
      "SO:0000704: A region (or regions) that includes all of the sequence elements necessary to encode a functional transcript. A gene may include regulatory regions, transcribed regions and/or other functional sequence regions.\n"
     ]
    }
   ],
   "source": [
    "query_prefix = f'https://www.ebi.ac.uk/ols/api/ontologies/%/terms/'\n",
    "exact_mappings = view.get_mappings('gene')\n",
    "for mapping in exact_mappings.get('exact'):\n",
    "    url = query_prefix + \"http%253A%252F%252Fpurl.obolibrary.org%252Fobo%252F\" + mapping.replace(\":\", \"_\")\n",
    "    response = requests.get(url)\n",
    "    if response.status_code == 200:\n",
    "        for description in response.json().get('description'):\n",
    "            element = view.get_element('gene')\n",
    "            print(element.name + \": \" + element.description +\"\\n\")\n",
    "            print(mapping + \": \" + description)\n",
    "            "
   ]
  },
  {
   "cell_type": "code",
   "execution_count": null,
   "id": "2f9e0c55",
   "metadata": {},
   "outputs": [],
   "source": []
  }
 ],
 "metadata": {
  "kernelspec": {
   "display_name": "Python 3 (ipykernel)",
   "language": "python",
   "name": "python3"
  },
  "language_info": {
   "codemirror_mode": {
    "name": "ipython",
    "version": 3
   },
   "file_extension": ".py",
   "mimetype": "text/x-python",
   "name": "python",
   "nbconvert_exporter": "python",
   "pygments_lexer": "ipython3",
   "version": "3.7.4"
  }
 },
 "nbformat": 4,
 "nbformat_minor": 5
}
